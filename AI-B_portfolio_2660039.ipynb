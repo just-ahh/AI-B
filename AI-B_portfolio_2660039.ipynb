{
 "cells": [
  {
   "cell_type": "markdown",
   "id": "3bd80b15-56cb-452a-b0b6-b5e1d84e41f8",
   "metadata": {},
   "source": [
    "<h1>AI Image Generation - Based off an Existing Text and Art</h1>"
   ]
  },
  {
   "cell_type": "markdown",
   "id": "0fe09ebf-fba5-4fce-ba3e-2b7f2a587921",
   "metadata": {},
   "source": [
    "<h2>An AI-B Project</h2>"
   ]
  },
  {
   "cell_type": "markdown",
   "id": "8424cfaa-28a3-4501-a86d-6abd3cbbb132",
   "metadata": {},
   "source": [
    "<h3><u>Context</u></h3>"
   ]
  },
  {
   "cell_type": "markdown",
   "id": "1760687b-743d-4996-94d7-eb14f82faf52",
   "metadata": {},
   "source": [
    "<h4>Introduction</h4>"
   ]
  },
  {
   "cell_type": "markdown",
   "id": "42c30f8a-d370-4bf7-b0e8-917c4e9e82ac",
   "metadata": {},
   "source": [
    "<p>The 1860s in the UK was the beginning of Queen Victoria’s 63-year long reign. This was a time of invention and improvement, which continued long into the coming years (<a href=\"https://www.cambridge.org/core/services/aop-cambridge-core/content/view/3FB01FC8C641E083DF651EB33DD4BD2E/9781139054539c16_p428-455_CBO.pdf/scotland-1860-1939-growth-and-poverty.pdf\">Source</a>). The journal used within this project is a clear example of a typical trip taken by the rich during this period of innovation. Not only highlighting the technology available at the time, but also the style and experience of travelling as though with the family themselves. </p>"
   ]
  },
  {
   "cell_type": "markdown",
   "id": "ff810c3c-2ef6-4b35-831a-595c0e1bc4a1",
   "metadata": {},
   "source": [
    "<h4>Content</h4>"
   ]
  },
  {
   "cell_type": "markdown",
   "id": "438aed00-2415-4866-babb-352afb96c8f8",
   "metadata": {},
   "source": [
    "<p>This journal contains a written and illustrated account of the <a href=\"https://www.glenarn.com/about\">Macgeorge family's</a> journey from Helensburgh, Glasgow to Nice in the south of France for the winter from 1867 to 1868. This journal discusses all the events that took place on this trip, including all the people they met and the weather when staying. Often it acts like a diary with activities for each day described inside alongside the author's opinions on different people places and events. The journal is also partly illustrated with pen and ink drawings in between the descriptions. The drawings depict what was occurring is the scene above it and is used to give a visualisation of the events previously described. These drawings feature throughout the journal but more so towards the beginning. The theory being the author got tired of having to do all the illustrations and therefore focused more on the writing aspect. Furthermore, the drawings are all in black ink on paper except one drawing near the end which is drawn in full colour. Believed to be for the purpose of highlighting the outfit the girl is wearing in the drawing.</p>"
   ]
  },
  {
   "cell_type": "markdown",
   "id": "29c43d84-ceae-400a-9fdd-8f664a112532",
   "metadata": {},
   "source": [
    "<p> Also featured within the journal are a few photographs taken of the beach and surrounding area of where the family stayed but also a leaf pressing at the end of the journal. All the images, drawings and pressings are extremely well preserved and still easy to access and understand. </p>"
   ]
  },
  {
   "cell_type": "markdown",
   "id": "b17a27e6-5641-4404-9f42-684029b22000",
   "metadata": {},
   "source": [
    "<h4> Access</h4>"
   ]
  },
  {
   "cell_type": "markdown",
   "id": "5eeed406-c69e-4171-b036-f9cdbcd428f3",
   "metadata": {},
   "source": [
    "<p>The Journal was bought from John Smith on the 18th of November 1953 by the University of Glasgow, which is where it is now housed within the archives and special collections department. The journal has yet to be digitised and therefore, no online digital copy exists. Yet there is brief information available online for the journal on the <a href=\"https://www.gla.ac.uk/collections/#/details?irn=250262&catType=C&referrer=/results&q=ms+gen+13\"> collection listing</a> on the Archives and special collections website. On the website the information available includes the official title of the object the creation years, how it came to be in the care of the University of Glasgow’s archives and special collections and its storage code to be able to view the journal. While there is no digitised copy, a digitised copy written by Robert McLean, who works in the archives and special collections department within the University of Glasgow library, does exist. However, this copy is not available to the public but special access was allowed for the creating of this project.</p>"
   ]
  },
  {
   "cell_type": "markdown",
   "id": "9a8e9a91-5b7a-4665-9a06-f677ff378f99",
   "metadata": {},
   "source": [
    "<p>To be able to view the journal, a few steps must be taken. The archives and special collections have an <a href=\"https://www.gla.ac.uk/myglasgow/archivespecialcollections/bookanappointment/#bookinginformation\"> online booking system</a> to be able to view each item. This system requires visitors to leave at least five working days’ notice prior to the desired viewing date. University of Glasgow students and staff will have an easier time applying for this booking through logging in with their university ID, but members of the public can apply for a viewing too, but need to register their details before this can take place. Viewings can either take place virtually through either zoom or Microsoft teams, or by visiting in person on level 12 of the University of Glasgow library. The virtual viewings last for one hour and allow the viewer to ask basic questions about the object but must undertake in depth research by themselves.</p>"
   ]
  },
  {
   "cell_type": "markdown",
   "id": "fb0be6ca-86a1-49ca-a6e6-93cf2089a1f5",
   "metadata": {},
   "source": [
    "<p>To book a visit, the code for the object is: GB 247 MS Gen 13. This code when requested will correlate to the travel journal and allow for viewing.</p>"
   ]
  },
  {
   "cell_type": "markdown",
   "id": "09509638-a56e-4b86-a376-eadf46d88495",
   "metadata": {},
   "source": [
    "<h4>New Perspective</h4>"
   ]
  },
  {
   "cell_type": "markdown",
   "id": "7e6476f6-2a65-4498-9d40-ec3116a61b2d",
   "metadata": {},
   "source": [
    "<p>Using AI, I plan to use the Journal of a Continental Tour to create new images based off the style already featured within the journal based off other sections of the journal that are not illustrated. This plan will be completed by using ChatGPT 4 to create the new images using generative AI. By doing this to attempt to make the journal more accessible to people using the principle of “a picture is worth a thousand words.” Images have a way at conveying meaning in a smaller and quicker way than text can. Using more images also helps to break through any literacy barriers and also allow people who speak other languages to have more of an understanding of what the journal describes. A similar art style to the drawings already present within the journal will be used, to try aim for a seamless transition from original to newly AI generated</p>"
   ]
  },
  {
   "cell_type": "markdown",
   "id": "b9dcfb1b-9c94-4d98-aed9-17781bf37cc0",
   "metadata": {},
   "source": [
    "<h4> Ethics</h4>"
   ]
  },
  {
   "cell_type": "markdown",
   "id": "da35fc69-271b-45d1-8efb-a8acd217733a",
   "metadata": {},
   "source": [
    "<p>Another issue to be raised through this project is the legality of continuing another person’s work after death or incompletion with AI. Analysing the prospect of how all the pieces would interact with each other, both original and new and how this would be classed legally and questions of ownership. Continuing another person’s work especially after death bring about many concerns over rights and permissions. </p>"
   ]
  },
  {
   "cell_type": "markdown",
   "id": "007c21a9-db7e-43a7-9d84-b07f41a8f50a",
   "metadata": {},
   "source": [
    "<p>Beginning with choosing which work to continue with generative AI, the work must be available in the public domain or with permissions from the original creator or the copyright holder. Using a work in the public domain allows for free use and the “use, copy and reproducing”  the original work without any legal trouble. Copyright usually applies to a work 70 years after the original authors death <a href=\"https://copyrightservice.co.uk/copyright/questions#:~:text=What%20happens%20when%20a%20copyright,William%20Shakespeare%2C%20classical%20composers%20etc.\"> (Source)</a>, but this can be extended by next of kin or whoever then has control over the work. As far as can be discovered, this piece is in the public domain, with it being 157 years after it was originally written. Therefore, the generation of new images based off the work should be legal. Without the piece being in the public domain, AI generation would be limited, and creation stopped. Furthermore, without the piece being in the public domain, it must be questioned who has control over the rights of the piece. Seeing if it is the original owner/family or friends of the creator or lawyers, to see which piece is the most viable for full creative output. </p>"
   ]
  },
  {
   "cell_type": "markdown",
   "id": "9e68753a-c571-4292-9b02-dd5f48c5f109",
   "metadata": {},
   "source": [
    "<p>When using the generative AI to create off an existing work, if recreating a similar or the same style, how does this effect the ethics in using AI for this work? To recreate an art style the AI would have to be trained on similar images or in the case of the Journal of a Continental Tour, images already present within the work. Looking at how would using an AI in this format effect the rights held on the original work and when it becomes infringement. </p>"
   ]
  },
  {
   "cell_type": "markdown",
   "id": "b17500c8-62b7-4859-be24-58630ce8161f",
   "metadata": {},
   "source": [
    "<p> Another issue to consider when looking at copyright and the use of generative AI is the owner of the new images just created. In this case of using a work that is most likely in the public domain, the new image rights holder is messy to navigate. If the new images are based off an existing work, then would the original creator of the work/images the AI generation ones are based on retain copyright for replicating the style of the work? Or if the original creator has passed away, would the copyright holder own the images instead? Another way it could be split is the person collaborating and utilising the AI, would their prompt engineering and skilful use of the generative AI grant them copyright ownership. Or could the rights fall to the AI itself or the company that hosts it, an example being ChatGPT being hosted and run by OpenAI. Furthermore, can an AI be capable of owning copyright and other similar legal rights as it is often a neural network. Finally, the other option to consider is putting the AI generated images that are replicating the original straight into the public domain so no one can gain ownership. All of these options are important to consider when looking at the applications of this project in a broader context of human and AI creative collaboration.\n",
    "<br>\n",
    "<br>\n",
    "(Who gets credit for AI-Generated Art? by Z. Epstein (2020) <a href=\"https://www.cell.com/iscience/pdf/S2589-0042(20)30707-0.pdf\"> Source </a>)\n",
    "<br>\n",
    "(Generative Artificial Intelligence and Copyright Law by C. Zirpoli (2023) <a href=\"https://digitalcommons.unl.edu/cgi/viewcontent.cgi?article=1245&context=scholcom\"> Source </a>)\n",
    "</p>"
   ]
  },
  {
   "cell_type": "markdown",
   "id": "3ab67512-f7f4-4c7d-883e-f9b9d7841d76",
   "metadata": {},
   "source": [
    "<h3><u> Methodology</u></h3>"
   ]
  },
  {
   "cell_type": "markdown",
   "id": "7f0106a6-6c97-4884-ab2d-0aa1f898b952",
   "metadata": {},
   "source": [
    "<h4>How does Generative AI work?</h4>"
   ]
  },
  {
   "cell_type": "markdown",
   "id": "e82f8309-bb58-4059-a9be-d2d1c9451579",
   "metadata": {},
   "source": [
    "<p>AI has existed for many years in the form of suggestions and recommendations online. Often these use Large Language Models to be able to communicate back in text. Other forms that you may have seen Generative AI in before are online chat simulators and help chats on websites.</p>"
   ]
  },
  {
   "cell_type": "markdown",
   "id": "0c5e0ce6-9ced-441c-8538-f7a9ad143915",
   "metadata": {},
   "source": [
    "<p>Generative AI are deep-learning models \"that can generate gigh-quality text, images and otherr content based on the content they were trained on\" <a href=\"https://research.ibm.com/blog/what-is-generative-AI\">(Source)</a> Generative AI are often made from neural network structures which allows them to access data and create new outputs.<br>\n",
    "There are many key elements in the creation of a Generative AI system, which are explained below:</p>"
   ]
  },
  {
   "cell_type": "markdown",
   "id": "2e929aec-0630-41d7-bc0f-a09576aad97f",
   "metadata": {},
   "source": [
    "<p>\n",
    "    <ul>\n",
    "        <li>Neural Networks – are the basis of Generative AI and function as having lots of data/parameters all connected to each other in many ways in a virtual space. Patten recognition is employed by the model to be able to put all the data points together to fulfil the prompt. The model looks at all the data that is similar to the prompt to analyse and create its response. All the data is stored as numbers so a changeover is required from input to generation to output. </li><br>\n",
    "        <li>Training – is when the AI is fed lots of data and text to learn from and this is sourced from all across the internet. It begins to generate outputs, and these are constantly improved upon by the algorithm until the outputs make sense within the data it was trained on. This is also known as back propagation. Human testing is also required on the outputs to edit and make sure the outputs make sense with context and nuance. Furthermore, human testing makes sure the AI does not generate something immoral or unethical to the user, such as how to murder someone. </li><br>\n",
    "        <li> Prompt Engineering – is effectively using and commanding AI. AI struggles to produce anything without human input. But not all input is helpful in gaining amazing results and so prompt engineering becomes very important. Knowing how to properly utilise an AI’s knowledge and large data banks, even better outputs can be achieved. </li>\n",
    "    </ul>\n",
    "    <a href=\"https://youtu.be/2IK3DFHRFfw?si=lk9XgD2wFZypX0PA\">(Source)</a>\n",
    "</p>"
   ]
  },
  {
   "cell_type": "markdown",
   "id": "e9160ad8-d686-4905-bb65-4cfc0b58d677",
   "metadata": {},
   "source": [
    "<p>A main feature with generative AI is transformers.<br>\n",
    "Transformers are a type of neural network structure that look at the structure of the prompt and how each word relates to each other. There are three main features of transformers which are listed below:\n",
    "    <ul>\n",
    "        <li>Positional encodings, which means not looking at each word in a sentence sequentially like a recurrent neural network. Instead it places an order value on each word in the sentence within the data. The neural network then learns the importance of word order and emphasis on different sentences.</li><br>\n",
    "        <li>Attention, is when an AI looks at every single word when making an output. It pays more attention and does not just at word singularly without seeing the sentence as a whole.</li><br>\n",
    "        <li>Self-attention, is for after using lots of prompts, the AI internally learns how language works better. It begins to look at a word within context of the words around it to see how it would impact the meaning. </li>\n",
    "    </ul>\n",
    "    <a href=\"https://www.youtube.com/watch?v=SZorAJ4I-sA\">(Source)</a> \r\n",
    "\n",
    "</p>"
   ]
  },
  {
   "cell_type": "markdown",
   "id": "4be3cc06-aeca-458e-84a1-945fdf16264c",
   "metadata": {},
   "source": [
    "<h4>Human Creativity and AI</h4>"
   ]
  },
  {
   "cell_type": "markdown",
   "id": "c54eafe1-7a2b-4401-bdf9-debe1e5d4d4a",
   "metadata": {},
   "source": [
    "<p>When looking at the link of AI and human creativity and input there are a lot of very important links between the two. As discussed above when mentioning prompt engineering, an AI’s result is often entirely dependent on how well the user can manipulate it. Prompt engineering is key in this regard as only with adequate and helpful input can the AI generate impressive results. Knowing how to correctly use an AI is vastly important in aiding human creativity. Without the inputs that the user comes up with, the AI would not be able to generate anything near as good than with human consultation.\n",
    "Furthermore, it is human creativity that made the journal this project uses, and the transcript of the text within the journal. Without these applications of humanity, imagination and ingenuity the journal would not be as interesting of a piece of history as it is today.</p>"
   ]
  },
  {
   "cell_type": "markdown",
   "id": "7e6f1be5-fce7-4690-af7c-0fe38de7abd4",
   "metadata": {},
   "source": [
    "<h4>Tools used</h4>"
   ]
  },
  {
   "cell_type": "markdown",
   "id": "c3f927d4-ae02-45b5-b104-989c0522c525",
   "metadata": {},
   "source": [
    "<p>The tools that have been used with this project are ChatGPT model GPT 4, Microsoft Copilot and DALL.E model 3, which all of these tools have been integrated together for maximum output. ChatGPT and Microsoft Copilot are text-to-text generator and DALL.E is a text-to-image generator. With DALL.E model 3 now being able to access both ChatGPT and Microsoft Copilot's knowledge of understanding prompts with their use of a transformer neural network structure, the images they outputs are cleaner than before. There is a paywall to be able to access ChatGPT 4 and to be able to access, this cost was split among my peer support group to be able to all access this resource. Microsodt Copilot has no paywall when logged in through University of Glasgow student ID bbut has a daily limit of 15 uses per rolling 24 hours. </p>"
   ]
  },
  {
   "cell_type": "markdown",
   "id": "d7856282-9b9a-4005-a4af-160239ef9b87",
   "metadata": {},
   "source": [
    "<p>With both ChatGPT Microsoft Copilot being able to access DALL.E 3, trials took place to see which tool was better. After experimenting with both AI’s, I ended up choosing Microsoft Copilot. Even with collaborating with my peer support group to pay for ChatGPT model 4, Microsoft Copilot when accessed through my student account seemed to generate better images that matched closer to the desired style. This was rated upon by my peer support group and other testers who did not know which system generated each image. While Microsoft Copilot has a limited number of times to use it per day, it seemed to be the better system for this project.</p>"
   ]
  },
  {
   "cell_type": "markdown",
   "id": "579768f6-a7b0-4405-9515-c9bb0cfce02d",
   "metadata": {},
   "source": [
    "<h4>Creating the images</h4>"
   ]
  },
  {
   "cell_type": "markdown",
   "id": "41fc2150-2d31-4abc-8779-dc22d7fc72ab",
   "metadata": {},
   "source": [
    "<h5>Prompt 1</h5>"
   ]
  },
  {
   "cell_type": "markdown",
   "id": "666423ed-5c8c-40f7-bd8a-853decfb5059",
   "metadata": {},
   "source": [
    "<p>The first section that I attempted to generate was from page 7 of the transcript and is the author discussing how another couple at their hotel in Paris, decided not to pay their room charge as it was more expensive than it should have been and left the hotel and went to the train station. Two waiters from the hotel came after them and attempted to take a cloak from the woman. This scene was chosen with help from my peer support group due to the dynamic movement of the scene and how simply it can be described. <br> The original prompt given was:</p>"
   ]
  },
  {
   "cell_type": "markdown",
   "id": "de4e4e36-7f04-4cba-8fd5-b0aa249a13b5",
   "metadata": {},
   "source": [
    "<p><i>A woman in Victorian clothes holding cloaks while a man tries to take them off of her</i>.</p>"
   ]
  },
  {
   "cell_type": "markdown",
   "id": "02bafc90-f9c7-4491-8cef-50693c1a9e2e",
   "metadata": {},
   "source": [
    "<p>Which generated the image below:</p>"
   ]
  },
  {
   "cell_type": "markdown",
   "id": "1188595e-1628-424c-83fb-a05a90af8635",
   "metadata": {},
   "source": [
    "<img src=\"images/cloak_og_size.png\" alt=\"An image of a man standing behind a woman and taking off her cloak\"></img>"
   ]
  },
  {
   "cell_type": "markdown",
   "id": "a6897265-13fa-4f57-9b8c-2ce23cbaeacc",
   "metadata": {},
   "source": [
    "<p>The image lacks the aggressive nature of the original scene, and the image is too stylised and in colour to match with the original style. Furthermore, the image has far too much detail in the clothes and faces which does not fit the sketchy style of the original piece.<br>\r\n",
    "To fix this problem, many additions were added to the prompt, including descriptions to make the image simpler, in black & white and included two reference images for it to analyse the style of:\r\n",
    "</p>"
   ]
  },
  {
   "cell_type": "markdown",
   "id": "43241f93-f1c3-4bcd-801c-21c261cb8d20",
   "metadata": {},
   "source": [
    "<img src=\"images/pic4_seasick.png\" alt=\"image from the journal of people sititng on a boat\"></img>"
   ]
  },
  {
   "cell_type": "markdown",
   "id": "5ebfef81-050d-483c-a320-fcc286ce6509",
   "metadata": {},
   "source": [
    "<img src=\"images/pic8_mosquito.png\" alt=\"image from the joural of a man in a nightgown looking for a mosquito\"></img>"
   ]
  },
  {
   "cell_type": "markdown",
   "id": "fb6123fc-1620-45b3-9e97-ec1b6c79e260",
   "metadata": {},
   "source": [
    "<p>The final description ended up being:</p>"
   ]
  },
  {
   "cell_type": "markdown",
   "id": "95097c50-916b-400b-a9cc-b4734022030b",
   "metadata": {},
   "source": [
    "<p><i>A woman in Victorian clothes holding cloaks while a man tries to take them off of her and they are fighting in black and white with simple line art with less detail and simplified folds in their clothing in the style of this image [images from the journal above].</i></p>"
   ]
  },
  {
   "cell_type": "markdown",
   "id": "05430698-98f3-418d-964a-ed2821c598d1",
   "metadata": {},
   "source": [
    "<p>After applying these additions to the prompt through a few different generations, the outcome became:</p>"
   ]
  },
  {
   "cell_type": "markdown",
   "id": "5662aa7e-ffee-4077-b61d-6a2adea2d68e",
   "metadata": {},
   "source": [
    "<img src=\"images/cloak1_size.png\" alt=\"AI generated image of a man stealing a womans cloak\"></img>"
   ]
  },
  {
   "cell_type": "markdown",
   "id": "e368c12f-decc-4f76-a36a-fd78657a6b47",
   "metadata": {},
   "source": [
    "<img src=\"images/cloak2_size.png\" alt=\"AI generated image of a man stealing a woman's cloak\"></img>"
   ]
  },
  {
   "cell_type": "markdown",
   "id": "4d5730c8-8995-4b12-971a-3dc93a4186f2",
   "metadata": {},
   "source": [
    "<p>These images, while not fully matching the original art style seemed like the closest that the AI was going to get to, even with more descriptions. The images, even with plenty of human input still fail to capture the simplicity of the originals and more time prompt engineering might have been required to gain a proper style. Even when providing the AI with pictures from the journal to look at and see the style of, it could not come up with a close match. But in comparison to the first image generated, the final images do have similarities to the originals.</p>"
   ]
  },
  {
   "cell_type": "markdown",
   "id": "7fd36f51-ea12-4572-889b-49f28a6a9021",
   "metadata": {},
   "source": [
    "<h5>Prompt 2</h5>"
   ]
  },
  {
   "cell_type": "markdown",
   "id": "3021ba91-8bac-4e94-b487-8ad27823f478",
   "metadata": {},
   "source": [
    "<p>The other section that I attempted to generate was a scene from page 7 of the transcript. Within this scene, the author is having dinner at a hotel in Paris and describes all the dishes that they are being served. These dishes included roast fowl with rice, soup with vegetables, souffle and other dishes. This scene was chosen for its descriptive nature of all the items served during dinner and to see how the AI would end up interpreting each item on the dinner table. </p>"
   ]
  },
  {
   "cell_type": "markdown",
   "id": "6c0fe9ec-d4de-46f9-be58-504af149a356",
   "metadata": {},
   "source": [
    "<p>The original prompt was:</p>"
   ]
  },
  {
   "cell_type": "markdown",
   "id": "84e61962-3cc7-43a0-b468-cdc178ff72f6",
   "metadata": {},
   "source": [
    "<p><i>A dinner spread with plates and bowls of soup, sliced roast beef, chicken with rice and desserts in a Victorian style.</i></p>"
   ]
  },
  {
   "cell_type": "markdown",
   "id": "acf7790a-46c5-475c-b4dc-1ebc3c8e19be",
   "metadata": {},
   "source": [
    "<p>This generated the image below:</p>"
   ]
  },
  {
   "cell_type": "markdown",
   "id": "89140721-b78d-4ed0-ae33-3102571814ed",
   "metadata": {},
   "source": [
    "<img src=\"images/dinner_og_size.png\" alt=\"An AI generated image of a dinner table with multiple plates of food, glasses of drink and utensils\"></img>"
   ]
  },
  {
   "cell_type": "markdown",
   "id": "2a5cd53d-b3ce-4f2d-9353-cee20d4d6122",
   "metadata": {},
   "source": [
    "<p>This image, while having all the food required on the table, is far too detailed and is in full colour with shading. It makes the table too modern for the time period. The image is also too complicated for the original art style that I am attempting to emulate.</p>"
   ]
  },
  {
   "cell_type": "markdown",
   "id": "ee385011-cb70-4463-a7c9-f36d09476ac1",
   "metadata": {},
   "source": [
    "<p>To fix this problem, the prompt was altered through a few new generations to make the image black and white, in a sketchier style, and with less detail and tone. To help with this generation, an image from the original journal was given to the AI to try replicate, this image is provided below:</p>"
   ]
  },
  {
   "cell_type": "markdown",
   "id": "307dc176-483b-405c-a86c-6d3ebe25cbbf",
   "metadata": {},
   "source": [
    "<img src=\"images/pic10_fashion.png\" alt=\"An image from the journal of a woman from the back in victorian clothes holding a small parasol\"></img>"
   ]
  },
  {
   "cell_type": "markdown",
   "id": "8bf98a91-5a63-49af-ab81-f7202158058b",
   "metadata": {},
   "source": [
    "<p>With these additions, the prompt became:</p>"
   ]
  },
  {
   "cell_type": "markdown",
   "id": "5ed501a4-95f2-4c4a-b480-d6968c6e6ed1",
   "metadata": {},
   "source": [
    "<p><i>A dinner spread with plates and bowls of soup, sliced beef, chicken with rice and desserts in a Victorian style black and white line art.</i></p>"
   ]
  },
  {
   "cell_type": "markdown",
   "id": "840e77ef-6680-4ec5-8510-bd9f7d29b969",
   "metadata": {},
   "source": [
    "<p>And this generated the images below:</p>"
   ]
  },
  {
   "cell_type": "markdown",
   "id": "3b9091ec-821d-46d9-b466-dd338dabb50a",
   "metadata": {},
   "source": [
    "<img src=\"images/dinner1_size.png\" alt=\"An AI generated image of a black and white image of a full dinner table\"></img>"
   ]
  },
  {
   "cell_type": "markdown",
   "id": "c5d78ae6-2bb8-4777-808e-ec1c9ceef82f",
   "metadata": {},
   "source": [
    "<img src=\"images/dinner2_size.png\" alt=\"An AI generated image of a black and white image of a full dinner table\"></img>"
   ]
  },
  {
   "cell_type": "markdown",
   "id": "1d342f06-edd9-408c-88e2-915fe6b1baaf",
   "metadata": {},
   "source": [
    "<p>These images are definitely closer to the original style of the journal but are missing the simplicity and messy light lines of original images. As with the previous example, the AI fails to capture the quick and easy nature of the original by adding too much detail, even when asked to remove it. Once again, even providing the AI images for it to replicate, it still cannot understand enough to duplicate. When analysing the images closely, as it is objects instead of people, it is easier to notice mistakes in the composition of lines disappearing or shapes being stuck together.</p>"
   ]
  },
  {
   "cell_type": "markdown",
   "id": "28ad3c54-8e54-4ad0-9559-7f4d41176ee2",
   "metadata": {},
   "source": [
    "<h5>Prompt 5</h5>"
   ]
  },
  {
   "cell_type": "markdown",
   "id": "50adcad2-dccd-4404-b3ea-872b0487819f",
   "metadata": {},
   "source": [
    "<p>The final prompt to be generated is from a scene in page 8 of the transcript. In which the author discusses how they went on a ride along the coastline (Corniche) and the promenade in Marseille. During this trip they see the well-kept gardens that were near the racecourse. The journal describes different flowers in the garden such as roses, chrysanthemums, magnolias and many other trees and flowers. This section of description was chosen with help of my peer support group for its mention of specific plants which might be easier for the AI to generate accurately.</p>"
   ]
  },
  {
   "cell_type": "markdown",
   "id": "3249045a-b006-47d0-aee6-cbd07a5009b6",
   "metadata": {},
   "source": [
    "<p>The prompt to generate an image that would fit within the journal style is:</p>"
   ]
  },
  {
   "cell_type": "markdown",
   "id": "2a7d1cec-1630-451f-8b13-fe217ee50082",
   "metadata": {},
   "source": [
    "<p><i>A well-kept garden with roses, chrysanthemums, magnolias and some trees.</i></p>"
   ]
  },
  {
   "cell_type": "markdown",
   "id": "72195362-f411-487d-ae4f-b53ac871bfb8",
   "metadata": {},
   "source": [
    "<p>This generated the image below:</p>"
   ]
  },
  {
   "cell_type": "markdown",
   "id": "0f15bf91-7ac9-437d-ac92-9b588aa3e77e",
   "metadata": {},
   "source": [
    "<img src=\"images/garden_og_size.png\" alt=\"An AI generated image of a garden that is very colourful and pretty.\"></img>"
   ]
  },
  {
   "cell_type": "markdown",
   "id": "5cbf4854-47ed-4490-9e9a-eb055d928e25",
   "metadata": {},
   "source": [
    "<p>Again, with all the images when first generated, they contain too much detail and colour for the look I am trying to emulate. Furthermore, the image has a hazy feel to it which is far from the sketched look of the original journal.</p>"
   ]
  },
  {
   "cell_type": "markdown",
   "id": "76faccea-ae03-4197-981d-101a7f8a3a85",
   "metadata": {},
   "source": [
    "<p>Once again, the image was put through many more prompt changes to create a better output. The image that was included for the AI to try copy the style of was:</p>"
   ]
  },
  {
   "cell_type": "markdown",
   "id": "4201c17b-9bc6-4bb5-b135-380532a07285",
   "metadata": {},
   "source": [
    "<img src=\"images/pic6_onshore.png\" alt=\"An image from the journal of a crowd of people coming onshore from a big ship\"></img>"
   ]
  },
  {
   "cell_type": "markdown",
   "id": "b536fe81-47e4-473b-9ad4-9cc26235f6b6",
   "metadata": {},
   "source": [
    "<p>The final prompt that managed to get closest to the original style was:</p>"
   ]
  },
  {
   "cell_type": "markdown",
   "id": "c1d151f2-3fb8-430e-ad94-4bc697b3862a",
   "metadata": {},
   "source": [
    "<p><i>A well-kept garden with roses, chrysanthemums, magnolias and some trees in black and white and in a cartoon sketch with simple lines</i></p>"
   ]
  },
  {
   "cell_type": "markdown",
   "id": "86dcfc79-cc59-46c6-8e0d-7321f3aac3b1",
   "metadata": {},
   "source": [
    "<p>This prompt produced the images seen below:</p>"
   ]
  },
  {
   "cell_type": "markdown",
   "id": "bf6ff239-5c50-4211-8b96-eaafafed2377",
   "metadata": {},
   "source": [
    "<img src=\"images/garden1_size.png\" alt=\"An AI generated image of a black and white simple cartoon garden with flowers and trees.\"></img>"
   ]
  },
  {
   "cell_type": "markdown",
   "id": "51ea729b-ca14-4dbe-8720-f79a2de54c96",
   "metadata": {},
   "source": [
    "<img src=\"images/garden2_size.png\" alt=\"An AI generated image of a black and white simple cartoon garden with flowers and trees.\"></img>"
   ]
  },
  {
   "cell_type": "markdown",
   "id": "3b12aa8f-319f-4e44-908d-70c81ead6339",
   "metadata": {},
   "source": [
    "<p>Out of all the images generated within this project, the first prompt tackled of the woman getting cloaks taken off of her, ended up being the closest the original style of the journal. With the garden images, the emphasis on a cartoon sketch style gave it the edge in how similar it is to the original. It gave the images clean and clear lines and took away much of the unnecessary detail that often is a part of AI generated images. While the image still has too much detail to match fully with the original style, it is a closer comparison than seen in other examples.</p>"
   ]
  },
  {
   "cell_type": "markdown",
   "id": "8c4cb78b-1532-4847-9621-b3873d45afd4",
   "metadata": {},
   "source": [
    "<h3><u>Conclusion</u></h3>"
   ]
  },
  {
   "cell_type": "markdown",
   "id": "90a10dd9-841b-409e-a7d7-6775c7144eb0",
   "metadata": {},
   "source": [
    "<p>Overall, this project of using AI to aid the original creativity of the Journal of a Continental Tour, has highlighted that it could be possible to replicate an art style. Currently at the capabilities that AI is at, this is extremely had to do, even when giving the AI a reference image and prompt engineering to get as close as possible. This could be down to numerous factors such as my own skills in utilising an AI, the system being used of Microsoft Copilot with DALL.E model 3 or the current technical limitations of generative AI. In a few years, generation of pieces in a lesser-known artwork’s style could be possible. Yet for now the quality does not fit in well enough to be counted as a copy of the art style of the original it attempts to emulate.</p>"
   ]
  },
  {
   "cell_type": "markdown",
   "id": "1185f825-1717-42de-b69c-fe806b51008b",
   "metadata": {},
   "source": [
    "<p>In regard to the question of copyright of AI art that this project attempted to discuss, seeing as the AI never managed to replicate the original style, the original copyright holders would not be able to claim. Copyright cannot protect ideas or concepts (<a href=\"https://copyrightalliance.org/faqs/whats-not-protected-by-copyright-law/#:~:text=Ideas%2C%20facts%2C%20and%20concepts%20are,as%20a%20database%20of%20facts\">Soure</a>) \n",
    "<br>\n",
    "Therefore, using the journal to use as inspiration for the art cannot be claimed as imitation as it is not the physical journal or art that has been copied. Yet, the rights to these AI generated pieces will fall to the public domain as copyright does not recognise AI generated art as made by the user and non-humans cannot claim for copyright protection.</p>"
   ]
  }
 ],
 "metadata": {
  "kernelspec": {
   "display_name": "Python 3 (ipykernel)",
   "language": "python",
   "name": "python3"
  },
  "language_info": {
   "codemirror_mode": {
    "name": "ipython",
    "version": 3
   },
   "file_extension": ".py",
   "mimetype": "text/x-python",
   "name": "python",
   "nbconvert_exporter": "python",
   "pygments_lexer": "ipython3",
   "version": "3.9.18"
  }
 },
 "nbformat": 4,
 "nbformat_minor": 5
}
